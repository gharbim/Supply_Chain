{
 "cells": [
  {
   "cell_type": "code",
   "execution_count": 6,
   "id": "9c29c6a0-1ec4-4ce4-9fbb-5a50f7695ff4",
   "metadata": {},
   "outputs": [
    {
     "name": "stdout",
     "output_type": "stream",
     "text": [
      "Requirement already satisfied: vaderSentiment in c:\\users\\pc hp 1\\anaconda3\\lib\\site-packages (3.3.2)\n",
      "Requirement already satisfied: nltk in c:\\users\\pc hp 1\\anaconda3\\lib\\site-packages (3.8.1)\n",
      "Requirement already satisfied: pandas in c:\\users\\pc hp 1\\anaconda3\\lib\\site-packages (2.1.4)\n",
      "Requirement already satisfied: requests in c:\\users\\pc hp 1\\anaconda3\\lib\\site-packages (from vaderSentiment) (2.31.0)\n",
      "Requirement already satisfied: click in c:\\users\\pc hp 1\\anaconda3\\lib\\site-packages (from nltk) (8.1.7)\n",
      "Requirement already satisfied: joblib in c:\\users\\pc hp 1\\anaconda3\\lib\\site-packages (from nltk) (1.2.0)\n",
      "Requirement already satisfied: regex>=2021.8.3 in c:\\users\\pc hp 1\\anaconda3\\lib\\site-packages (from nltk) (2023.10.3)\n",
      "Requirement already satisfied: tqdm in c:\\users\\pc hp 1\\anaconda3\\lib\\site-packages (from nltk) (4.65.0)\n",
      "Requirement already satisfied: numpy<2,>=1.23.2 in c:\\users\\pc hp 1\\anaconda3\\lib\\site-packages (from pandas) (1.26.4)\n",
      "Requirement already satisfied: python-dateutil>=2.8.2 in c:\\users\\pc hp 1\\anaconda3\\lib\\site-packages (from pandas) (2.8.2)\n",
      "Requirement already satisfied: pytz>=2020.1 in c:\\users\\pc hp 1\\anaconda3\\lib\\site-packages (from pandas) (2023.3.post1)\n",
      "Requirement already satisfied: tzdata>=2022.1 in c:\\users\\pc hp 1\\anaconda3\\lib\\site-packages (from pandas) (2023.3)\n",
      "Requirement already satisfied: six>=1.5 in c:\\users\\pc hp 1\\anaconda3\\lib\\site-packages (from python-dateutil>=2.8.2->pandas) (1.16.0)\n",
      "Requirement already satisfied: colorama in c:\\users\\pc hp 1\\anaconda3\\lib\\site-packages (from click->nltk) (0.4.6)\n",
      "Requirement already satisfied: charset-normalizer<4,>=2 in c:\\users\\pc hp 1\\anaconda3\\lib\\site-packages (from requests->vaderSentiment) (2.0.4)\n",
      "Requirement already satisfied: idna<4,>=2.5 in c:\\users\\pc hp 1\\anaconda3\\lib\\site-packages (from requests->vaderSentiment) (3.4)\n",
      "Requirement already satisfied: urllib3<3,>=1.21.1 in c:\\users\\pc hp 1\\anaconda3\\lib\\site-packages (from requests->vaderSentiment) (2.0.7)\n",
      "Requirement already satisfied: certifi>=2017.4.17 in c:\\users\\pc hp 1\\anaconda3\\lib\\site-packages (from requests->vaderSentiment) (2024.2.2)\n",
      "Note: you may need to restart the kernel to use updated packages.\n"
     ]
    }
   ],
   "source": [
    "pip install vaderSentiment nltk pandas"
   ]
  },
  {
   "cell_type": "code",
   "execution_count": 27,
   "id": "35793294-0688-4a39-a3ba-0afff1609f9e",
   "metadata": {},
   "outputs": [
    {
     "name": "stdout",
     "output_type": "stream",
     "text": [
      "    name rating_date  rating  \\\n",
      "0  b***m  2024.12.29     5.0   \n",
      "1  s***5  2024.02.06     5.0   \n",
      "2  k***h  2023.12.13     5.0   \n",
      "3  G***o  2023.07.02     5.0   \n",
      "4  E***g  2023.03.15     5.0   \n",
      "\n",
      "                                            comments  \n",
      "0                Leaves a very nice tone on the face  \n",
      "1  Nunca había probado un producto como este! Me ...  \n",
      "2  Me gusta mucho el colorete porque me gusta más...  \n",
      "3           Im in love qith this product for real :)  \n",
      "4  I have never used a cream blush before, and i ...  \n",
      "                                            comments Sentiment\n",
      "0                Leaves a very nice tone on the face  Positive\n",
      "1  Nunca había probado un producto como este! Me ...   Neutral\n",
      "2  Me gusta mucho el colorete porque me gusta más...   Neutral\n",
      "3           Im in love qith this product for real :)  Positive\n",
      "4  I have never used a cream blush before, and i ...  Positive\n",
      "✅ Reviews with sentiment saved to 'classified_reviews.csv'\n",
      "New review sentiment: Negative\n"
     ]
    },
    {
     "name": "stderr",
     "output_type": "stream",
     "text": [
      "[nltk_data] Downloading package punkt to C:\\Users\\PC HP\n",
      "[nltk_data]     1\\AppData\\Roaming\\nltk_data...\n",
      "[nltk_data]   Package punkt is already up-to-date!\n",
      "[nltk_data] Downloading package stopwords to C:\\Users\\PC HP\n",
      "[nltk_data]     1\\AppData\\Roaming\\nltk_data...\n",
      "[nltk_data]   Package stopwords is already up-to-date!\n"
     ]
    }
   ],
   "source": [
    "# Install necessary packages\n",
    "# pip install vaderSentiment nltk pandas\n",
    "\n",
    "# Download NLTK data (even though it's not used here)\n",
    "import nltk\n",
    "nltk.download('punkt')\n",
    "nltk.download('stopwords')\n",
    "\n",
    "import pandas as pd\n",
    "from vaderSentiment.vaderSentiment import SentimentIntensityAnalyzer\n",
    "\n",
    "# Load your customer reviews CSV\n",
    "df = pd.read_csv(r\"C:\\Users\\PC HP 1\\Desktop\\PI-ERP-BI\\data_externe\\shein_reviews_python+csv\\reviews_sheglam_final.csv\", sep=';')  \n",
    "print(df.head())\n",
    "\n",
    "# Initialize VADER\n",
    "analyzer = SentimentIntensityAnalyzer()\n",
    "\n",
    "# Function to classify sentiment\n",
    "def get_sentiment(text):\n",
    "    if pd.isna(text):\n",
    "        return 'Neutral'\n",
    "    score = analyzer.polarity_scores(str(text))['compound']\n",
    "    if score >= 0.05:\n",
    "        return 'Positive'\n",
    "    elif score <= -0.05:\n",
    "        return 'Negative'\n",
    "    else:\n",
    "        return 'Neutral'\n",
    "\n",
    "# Apply sentiment analysis on the 'comments' column\n",
    "df['Sentiment'] = df['comments'].apply(get_sentiment)\n",
    "\n",
    "# View results\n",
    "print(df[['comments', 'Sentiment']].head())\n",
    "\n",
    "# Save to CSV\n",
    "df.to_csv(\"classified_reviews.csv\", index=False)\n",
    "print(\"✅ Reviews with sentiment saved to 'classified_reviews.csv'\")\n",
    "\n",
    "# (Optional) Simple text cleaner for new review classification\n",
    "def preprocess_text(text):\n",
    "    return str(text).strip().lower()\n",
    "\n",
    "# Function to classify a new review\n",
    "def classify_new_review(review_text):\n",
    "    clean_text = preprocess_text(review_text)\n",
    "    score = analyzer.polarity_scores(clean_text)['compound']\n",
    "    \n",
    "    if score >= 0.05:\n",
    "        return 'Positive'\n",
    "    elif score <= -0.05:\n",
    "        return 'Negative'\n",
    "    else:\n",
    "        return 'Neutral'\n",
    "\n",
    "# Example\n",
    "new_review = \"it makes me face oily don't like it \"\n",
    "print(\"New review sentiment:\", classify_new_review(new_review))\n"
   ]
  },
  {
   "cell_type": "code",
   "execution_count": 30,
   "id": "7fdf8d0b-01f5-45e5-af45-98803a2d1645",
   "metadata": {},
   "outputs": [
    {
     "name": "stdout",
     "output_type": "stream",
     "text": [
      "New review sentiment: Neutral\n"
     ]
    }
   ],
   "source": [
    "# Example\n",
    "new_review = \"make my skin dry\"\n",
    "print(\"New review sentiment:\", classify_new_review(new_review))"
   ]
  }
 ],
 "metadata": {
  "kernelspec": {
   "display_name": "Python 3 (ipykernel)",
   "language": "python",
   "name": "python3"
  },
  "language_info": {
   "codemirror_mode": {
    "name": "ipython",
    "version": 3
   },
   "file_extension": ".py",
   "mimetype": "text/x-python",
   "name": "python",
   "nbconvert_exporter": "python",
   "pygments_lexer": "ipython3",
   "version": "3.11.7"
  }
 },
 "nbformat": 4,
 "nbformat_minor": 5
}
