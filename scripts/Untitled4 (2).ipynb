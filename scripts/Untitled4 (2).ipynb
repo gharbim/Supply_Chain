{
 "cells": [
  {
   "cell_type": "code",
   "execution_count": 37,
   "id": "3e7a9e7f-f2ac-47f7-8048-3212bac399ff",
   "metadata": {},
   "outputs": [
    {
     "name": "stdout",
     "output_type": "stream",
     "text": [
      "Requirement already satisfied: pyodbc in c:\\users\\pc hp 1\\anaconda3\\lib\\site-packages (5.0.1)\n",
      "Note: you may need to restart the kernel to use updated packages.\n"
     ]
    }
   ],
   "source": [
    "pip install pyodbc"
   ]
  },
  {
   "cell_type": "code",
   "execution_count": 38,
   "id": "6d16042a-8ee8-4296-9862-b503215f5523",
   "metadata": {},
   "outputs": [],
   "source": [
    "import pyodbc\n",
    "import pandas as pd"
   ]
  },
  {
   "cell_type": "code",
   "execution_count": 39,
   "id": "79b8f198-3e32-4505-9d12-31dbc571048d",
   "metadata": {},
   "outputs": [],
   "source": [
    "cnxn_str = (\"Driver={ODBC Driver 17 for SQL Server};\"\n",
    "\n",
    "            \"Server=DESKTOP-VQFAPB4;\"\n",
    "\n",
    "            \"Database=DW_SupplyChain;\"\n",
    "\n",
    "            \"Trusted_Connection=yes;\")"
   ]
  },
  {
   "cell_type": "code",
   "execution_count": 40,
   "id": "9e6fb40f-667f-4fb6-b7cb-0cf70a4d5690",
   "metadata": {},
   "outputs": [],
   "source": [
    "cnxn = pyodbc.connect(cnxn_str)"
   ]
  },
  {
   "cell_type": "code",
   "execution_count": 41,
   "id": "f9c88fed-c13a-4ea0-9a48-99d0813d2dea",
   "metadata": {},
   "outputs": [],
   "source": [
    "# df = pd.read_sql(\"Select * from dim_unit\", cnxn)\n",
    "# print(df)"
   ]
  },
  {
   "cell_type": "code",
   "execution_count": 42,
   "id": "2ea73f26-53e4-4647-ba79-5f1f8d6ab729",
   "metadata": {},
   "outputs": [],
   "source": [
    "# Load data\n",
    "query = \"\"\"\n",
    "SELECT \n",
    "    p.ProductPK, \n",
    "    p.productid, \n",
    "    b.brandname AS Product_Brand, \n",
    "    c.Category, \n",
    "    f.unit_price, \n",
    "    SUM(f.Total__TND) AS Total_Sales, \n",
    "    SUM(f.Quantity) AS Total_Quantity\n",
    "FROM Fact_sales f\n",
    "JOIN dim_product p ON f.ProductFK = p.ProductPK\n",
    "JOIN dim_brand b ON f.BrandFK = b.brandPK\n",
    "JOIN dim_category_brand c ON b.Category_FK = c.Category_PK\n",
    "GROUP BY p.ProductPK, p.productid, b.brandname, f.unit_price, c.Category;\n",
    "\"\"\"\n"
   ]
  },
  {
   "cell_type": "code",
   "execution_count": 43,
   "id": "d7c09b84-1ee9-42da-8605-233e1cfabb71",
   "metadata": {},
   "outputs": [
    {
     "name": "stderr",
     "output_type": "stream",
     "text": [
      "C:\\Users\\PC HP 1\\AppData\\Local\\Temp\\ipykernel_12536\\2125270516.py:1: UserWarning: pandas only supports SQLAlchemy connectable (engine/connection) or database string URI or sqlite3 DBAPI2 connection. Other DBAPI2 objects are not tested. Please consider using SQLAlchemy.\n",
      "  df = pd.read_sql(query, cnxn)\n"
     ]
    },
    {
     "name": "stdout",
     "output_type": "stream",
     "text": [
      "   ProductPK productid               Product_Brand   Category  unit_price  \\\n",
      "0          2    PR-001                Walker Group  Fragrance  140.300003   \n",
      "1          5    PR-002      Lyons, Zuniga and Wolf     Makeup  188.460007   \n",
      "2          9    PR-003             Rogers-Thompson   Skincare  165.199997   \n",
      "3         10    PR-004              Lewis and Sons   Bodycare  145.529999   \n",
      "4         15    PR-005  Anthony, Colon and Jimenez   Skincare  102.370003   \n",
      "\n",
      "    Total_Sales  Total_Quantity  \n",
      "0  40967.601028             292  \n",
      "1  67468.681427             358  \n",
      "2  45429.999298             275  \n",
      "3  49334.670044             339  \n",
      "4  36238.981049             354  \n"
     ]
    }
   ],
   "source": [
    "df = pd.read_sql(query, cnxn)\n",
    "\n",
    "# Check data\n",
    "print(df.head())"
   ]
  },
  {
   "cell_type": "code",
   "execution_count": 44,
   "id": "98b1ee23-f4ed-4ee5-bd1c-affd252b0ad4",
   "metadata": {},
   "outputs": [
    {
     "name": "stdout",
     "output_type": "stream",
     "text": [
      "   ProductPK productid  unit_price   Total_Sales  Total_Quantity  \\\n",
      "0          2    PR-001  140.300003  40967.601028             292   \n",
      "1          5    PR-002  188.460007  67468.681427             358   \n",
      "2          9    PR-003  165.199997  45429.999298             275   \n",
      "3         10    PR-004  145.529999  49334.670044             339   \n",
      "4         15    PR-005  102.370003  36238.981049             354   \n",
      "\n",
      "   Product_Brand_Adams-Ellison  Product_Brand_Alexander-Gaines  \\\n",
      "0                        False                           False   \n",
      "1                        False                           False   \n",
      "2                        False                           False   \n",
      "3                        False                           False   \n",
      "4                        False                           False   \n",
      "\n",
      "   Product_Brand_Allen LLC  Product_Brand_Allen, Smith and Gordon  \\\n",
      "0                    False                                  False   \n",
      "1                    False                                  False   \n",
      "2                    False                                  False   \n",
      "3                    False                                  False   \n",
      "4                    False                                  False   \n",
      "\n",
      "   Product_Brand_Alvarado Group  ...  Product_Brand_Williams LLC  \\\n",
      "0                         False  ...                       False   \n",
      "1                         False  ...                       False   \n",
      "2                         False  ...                       False   \n",
      "3                         False  ...                       False   \n",
      "4                         False  ...                       False   \n",
      "\n",
      "   Product_Brand_Williams Ltd  Product_Brand_Williams, Hill and Taylor  \\\n",
      "0                       False                                    False   \n",
      "1                       False                                    False   \n",
      "2                       False                                    False   \n",
      "3                       False                                    False   \n",
      "4                       False                                    False   \n",
      "\n",
      "   Product_Brand_Williams-Brewer  Product_Brand_Williamson Group  \\\n",
      "0                          False                           False   \n",
      "1                          False                           False   \n",
      "2                          False                           False   \n",
      "3                          False                           False   \n",
      "4                          False                           False   \n",
      "\n",
      "   Product_Brand_Wright Ltd  Category_Fragrance  Category_Haircare  \\\n",
      "0                     False                True              False   \n",
      "1                     False               False              False   \n",
      "2                     False               False              False   \n",
      "3                     False               False              False   \n",
      "4                     False               False              False   \n",
      "\n",
      "   Category_Makeup  Category_Skincare  \n",
      "0            False              False  \n",
      "1             True              False  \n",
      "2            False               True  \n",
      "3            False              False  \n",
      "4            False               True  \n",
      "\n",
      "[5 rows x 208 columns]\n"
     ]
    }
   ],
   "source": [
    "import pandas as pd\n",
    "\n",
    "# One-hot encode categorical features\n",
    "df_encoded = pd.get_dummies(df, columns=['Product_Brand', 'Category'], drop_first=True)\n",
    "\n",
    "# Display first rows\n",
    "print(df_encoded.head())"
   ]
  },
  {
   "cell_type": "code",
   "execution_count": 45,
   "id": "99d4378d-66e5-41b6-b35f-e38e891f5d1a",
   "metadata": {},
   "outputs": [
    {
     "data": {
      "text/html": [
       "<div>\n",
       "<style scoped>\n",
       "    .dataframe tbody tr th:only-of-type {\n",
       "        vertical-align: middle;\n",
       "    }\n",
       "\n",
       "    .dataframe tbody tr th {\n",
       "        vertical-align: top;\n",
       "    }\n",
       "\n",
       "    .dataframe thead th {\n",
       "        text-align: right;\n",
       "    }\n",
       "</style>\n",
       "<table border=\"1\" class=\"dataframe\">\n",
       "  <thead>\n",
       "    <tr style=\"text-align: right;\">\n",
       "      <th></th>\n",
       "      <th>ProductPK</th>\n",
       "      <th>productid</th>\n",
       "      <th>unit_price</th>\n",
       "      <th>Total_Sales</th>\n",
       "      <th>Total_Quantity</th>\n",
       "      <th>Product_Brand_Adams-Ellison</th>\n",
       "      <th>Product_Brand_Alexander-Gaines</th>\n",
       "      <th>Product_Brand_Allen LLC</th>\n",
       "      <th>Product_Brand_Allen, Smith and Gordon</th>\n",
       "      <th>Product_Brand_Alvarado Group</th>\n",
       "      <th>...</th>\n",
       "      <th>Product_Brand_Williams LLC</th>\n",
       "      <th>Product_Brand_Williams Ltd</th>\n",
       "      <th>Product_Brand_Williams, Hill and Taylor</th>\n",
       "      <th>Product_Brand_Williams-Brewer</th>\n",
       "      <th>Product_Brand_Williamson Group</th>\n",
       "      <th>Product_Brand_Wright Ltd</th>\n",
       "      <th>Category_Fragrance</th>\n",
       "      <th>Category_Haircare</th>\n",
       "      <th>Category_Makeup</th>\n",
       "      <th>Category_Skincare</th>\n",
       "    </tr>\n",
       "  </thead>\n",
       "  <tbody>\n",
       "    <tr>\n",
       "      <th>0</th>\n",
       "      <td>2</td>\n",
       "      <td>PR-001</td>\n",
       "      <td>140.300003</td>\n",
       "      <td>40967.601028</td>\n",
       "      <td>292</td>\n",
       "      <td>False</td>\n",
       "      <td>False</td>\n",
       "      <td>False</td>\n",
       "      <td>False</td>\n",
       "      <td>False</td>\n",
       "      <td>...</td>\n",
       "      <td>False</td>\n",
       "      <td>False</td>\n",
       "      <td>False</td>\n",
       "      <td>False</td>\n",
       "      <td>False</td>\n",
       "      <td>False</td>\n",
       "      <td>True</td>\n",
       "      <td>False</td>\n",
       "      <td>False</td>\n",
       "      <td>False</td>\n",
       "    </tr>\n",
       "    <tr>\n",
       "      <th>1</th>\n",
       "      <td>5</td>\n",
       "      <td>PR-002</td>\n",
       "      <td>188.460007</td>\n",
       "      <td>67468.681427</td>\n",
       "      <td>358</td>\n",
       "      <td>False</td>\n",
       "      <td>False</td>\n",
       "      <td>False</td>\n",
       "      <td>False</td>\n",
       "      <td>False</td>\n",
       "      <td>...</td>\n",
       "      <td>False</td>\n",
       "      <td>False</td>\n",
       "      <td>False</td>\n",
       "      <td>False</td>\n",
       "      <td>False</td>\n",
       "      <td>False</td>\n",
       "      <td>False</td>\n",
       "      <td>False</td>\n",
       "      <td>True</td>\n",
       "      <td>False</td>\n",
       "    </tr>\n",
       "    <tr>\n",
       "      <th>2</th>\n",
       "      <td>9</td>\n",
       "      <td>PR-003</td>\n",
       "      <td>165.199997</td>\n",
       "      <td>45429.999298</td>\n",
       "      <td>275</td>\n",
       "      <td>False</td>\n",
       "      <td>False</td>\n",
       "      <td>False</td>\n",
       "      <td>False</td>\n",
       "      <td>False</td>\n",
       "      <td>...</td>\n",
       "      <td>False</td>\n",
       "      <td>False</td>\n",
       "      <td>False</td>\n",
       "      <td>False</td>\n",
       "      <td>False</td>\n",
       "      <td>False</td>\n",
       "      <td>False</td>\n",
       "      <td>False</td>\n",
       "      <td>False</td>\n",
       "      <td>True</td>\n",
       "    </tr>\n",
       "    <tr>\n",
       "      <th>3</th>\n",
       "      <td>10</td>\n",
       "      <td>PR-004</td>\n",
       "      <td>145.529999</td>\n",
       "      <td>49334.670044</td>\n",
       "      <td>339</td>\n",
       "      <td>False</td>\n",
       "      <td>False</td>\n",
       "      <td>False</td>\n",
       "      <td>False</td>\n",
       "      <td>False</td>\n",
       "      <td>...</td>\n",
       "      <td>False</td>\n",
       "      <td>False</td>\n",
       "      <td>False</td>\n",
       "      <td>False</td>\n",
       "      <td>False</td>\n",
       "      <td>False</td>\n",
       "      <td>False</td>\n",
       "      <td>False</td>\n",
       "      <td>False</td>\n",
       "      <td>False</td>\n",
       "    </tr>\n",
       "    <tr>\n",
       "      <th>4</th>\n",
       "      <td>15</td>\n",
       "      <td>PR-005</td>\n",
       "      <td>102.370003</td>\n",
       "      <td>36238.981049</td>\n",
       "      <td>354</td>\n",
       "      <td>False</td>\n",
       "      <td>False</td>\n",
       "      <td>False</td>\n",
       "      <td>False</td>\n",
       "      <td>False</td>\n",
       "      <td>...</td>\n",
       "      <td>False</td>\n",
       "      <td>False</td>\n",
       "      <td>False</td>\n",
       "      <td>False</td>\n",
       "      <td>False</td>\n",
       "      <td>False</td>\n",
       "      <td>False</td>\n",
       "      <td>False</td>\n",
       "      <td>False</td>\n",
       "      <td>True</td>\n",
       "    </tr>\n",
       "    <tr>\n",
       "      <th>...</th>\n",
       "      <td>...</td>\n",
       "      <td>...</td>\n",
       "      <td>...</td>\n",
       "      <td>...</td>\n",
       "      <td>...</td>\n",
       "      <td>...</td>\n",
       "      <td>...</td>\n",
       "      <td>...</td>\n",
       "      <td>...</td>\n",
       "      <td>...</td>\n",
       "      <td>...</td>\n",
       "      <td>...</td>\n",
       "      <td>...</td>\n",
       "      <td>...</td>\n",
       "      <td>...</td>\n",
       "      <td>...</td>\n",
       "      <td>...</td>\n",
       "      <td>...</td>\n",
       "      <td>...</td>\n",
       "      <td>...</td>\n",
       "      <td>...</td>\n",
       "    </tr>\n",
       "    <tr>\n",
       "      <th>1196</th>\n",
       "      <td>4648</td>\n",
       "      <td>PR-2193</td>\n",
       "      <td>29.350000</td>\n",
       "      <td>8893.050121</td>\n",
       "      <td>303</td>\n",
       "      <td>False</td>\n",
       "      <td>False</td>\n",
       "      <td>False</td>\n",
       "      <td>False</td>\n",
       "      <td>False</td>\n",
       "      <td>...</td>\n",
       "      <td>False</td>\n",
       "      <td>False</td>\n",
       "      <td>False</td>\n",
       "      <td>False</td>\n",
       "      <td>False</td>\n",
       "      <td>False</td>\n",
       "      <td>False</td>\n",
       "      <td>True</td>\n",
       "      <td>False</td>\n",
       "      <td>False</td>\n",
       "    </tr>\n",
       "    <tr>\n",
       "      <th>1197</th>\n",
       "      <td>4654</td>\n",
       "      <td>PR-2195</td>\n",
       "      <td>62.389999</td>\n",
       "      <td>21898.889999</td>\n",
       "      <td>351</td>\n",
       "      <td>False</td>\n",
       "      <td>False</td>\n",
       "      <td>False</td>\n",
       "      <td>False</td>\n",
       "      <td>False</td>\n",
       "      <td>...</td>\n",
       "      <td>False</td>\n",
       "      <td>False</td>\n",
       "      <td>False</td>\n",
       "      <td>False</td>\n",
       "      <td>False</td>\n",
       "      <td>False</td>\n",
       "      <td>False</td>\n",
       "      <td>True</td>\n",
       "      <td>False</td>\n",
       "      <td>False</td>\n",
       "    </tr>\n",
       "    <tr>\n",
       "      <th>1198</th>\n",
       "      <td>4658</td>\n",
       "      <td>PR-2197</td>\n",
       "      <td>161.610001</td>\n",
       "      <td>62866.289825</td>\n",
       "      <td>389</td>\n",
       "      <td>False</td>\n",
       "      <td>False</td>\n",
       "      <td>False</td>\n",
       "      <td>False</td>\n",
       "      <td>False</td>\n",
       "      <td>...</td>\n",
       "      <td>False</td>\n",
       "      <td>False</td>\n",
       "      <td>False</td>\n",
       "      <td>False</td>\n",
       "      <td>False</td>\n",
       "      <td>False</td>\n",
       "      <td>False</td>\n",
       "      <td>False</td>\n",
       "      <td>True</td>\n",
       "      <td>False</td>\n",
       "    </tr>\n",
       "    <tr>\n",
       "      <th>1199</th>\n",
       "      <td>4661</td>\n",
       "      <td>PR-2199</td>\n",
       "      <td>47.790001</td>\n",
       "      <td>15818.490105</td>\n",
       "      <td>331</td>\n",
       "      <td>False</td>\n",
       "      <td>False</td>\n",
       "      <td>False</td>\n",
       "      <td>False</td>\n",
       "      <td>False</td>\n",
       "      <td>...</td>\n",
       "      <td>False</td>\n",
       "      <td>False</td>\n",
       "      <td>False</td>\n",
       "      <td>False</td>\n",
       "      <td>False</td>\n",
       "      <td>False</td>\n",
       "      <td>False</td>\n",
       "      <td>False</td>\n",
       "      <td>False</td>\n",
       "      <td>False</td>\n",
       "    </tr>\n",
       "    <tr>\n",
       "      <th>1200</th>\n",
       "      <td>4665</td>\n",
       "      <td>PR-2201</td>\n",
       "      <td>64.529999</td>\n",
       "      <td>19229.939972</td>\n",
       "      <td>298</td>\n",
       "      <td>False</td>\n",
       "      <td>False</td>\n",
       "      <td>False</td>\n",
       "      <td>False</td>\n",
       "      <td>False</td>\n",
       "      <td>...</td>\n",
       "      <td>False</td>\n",
       "      <td>False</td>\n",
       "      <td>False</td>\n",
       "      <td>False</td>\n",
       "      <td>False</td>\n",
       "      <td>False</td>\n",
       "      <td>False</td>\n",
       "      <td>False</td>\n",
       "      <td>False</td>\n",
       "      <td>False</td>\n",
       "    </tr>\n",
       "  </tbody>\n",
       "</table>\n",
       "<p>1201 rows × 208 columns</p>\n",
       "</div>"
      ],
      "text/plain": [
       "      ProductPK productid  unit_price   Total_Sales  Total_Quantity  \\\n",
       "0             2    PR-001  140.300003  40967.601028             292   \n",
       "1             5    PR-002  188.460007  67468.681427             358   \n",
       "2             9    PR-003  165.199997  45429.999298             275   \n",
       "3            10    PR-004  145.529999  49334.670044             339   \n",
       "4            15    PR-005  102.370003  36238.981049             354   \n",
       "...         ...       ...         ...           ...             ...   \n",
       "1196       4648   PR-2193   29.350000   8893.050121             303   \n",
       "1197       4654   PR-2195   62.389999  21898.889999             351   \n",
       "1198       4658   PR-2197  161.610001  62866.289825             389   \n",
       "1199       4661   PR-2199   47.790001  15818.490105             331   \n",
       "1200       4665   PR-2201   64.529999  19229.939972             298   \n",
       "\n",
       "      Product_Brand_Adams-Ellison  Product_Brand_Alexander-Gaines  \\\n",
       "0                           False                           False   \n",
       "1                           False                           False   \n",
       "2                           False                           False   \n",
       "3                           False                           False   \n",
       "4                           False                           False   \n",
       "...                           ...                             ...   \n",
       "1196                        False                           False   \n",
       "1197                        False                           False   \n",
       "1198                        False                           False   \n",
       "1199                        False                           False   \n",
       "1200                        False                           False   \n",
       "\n",
       "      Product_Brand_Allen LLC  Product_Brand_Allen, Smith and Gordon  \\\n",
       "0                       False                                  False   \n",
       "1                       False                                  False   \n",
       "2                       False                                  False   \n",
       "3                       False                                  False   \n",
       "4                       False                                  False   \n",
       "...                       ...                                    ...   \n",
       "1196                    False                                  False   \n",
       "1197                    False                                  False   \n",
       "1198                    False                                  False   \n",
       "1199                    False                                  False   \n",
       "1200                    False                                  False   \n",
       "\n",
       "      Product_Brand_Alvarado Group  ...  Product_Brand_Williams LLC  \\\n",
       "0                            False  ...                       False   \n",
       "1                            False  ...                       False   \n",
       "2                            False  ...                       False   \n",
       "3                            False  ...                       False   \n",
       "4                            False  ...                       False   \n",
       "...                            ...  ...                         ...   \n",
       "1196                         False  ...                       False   \n",
       "1197                         False  ...                       False   \n",
       "1198                         False  ...                       False   \n",
       "1199                         False  ...                       False   \n",
       "1200                         False  ...                       False   \n",
       "\n",
       "      Product_Brand_Williams Ltd  Product_Brand_Williams, Hill and Taylor  \\\n",
       "0                          False                                    False   \n",
       "1                          False                                    False   \n",
       "2                          False                                    False   \n",
       "3                          False                                    False   \n",
       "4                          False                                    False   \n",
       "...                          ...                                      ...   \n",
       "1196                       False                                    False   \n",
       "1197                       False                                    False   \n",
       "1198                       False                                    False   \n",
       "1199                       False                                    False   \n",
       "1200                       False                                    False   \n",
       "\n",
       "      Product_Brand_Williams-Brewer  Product_Brand_Williamson Group  \\\n",
       "0                             False                           False   \n",
       "1                             False                           False   \n",
       "2                             False                           False   \n",
       "3                             False                           False   \n",
       "4                             False                           False   \n",
       "...                             ...                             ...   \n",
       "1196                          False                           False   \n",
       "1197                          False                           False   \n",
       "1198                          False                           False   \n",
       "1199                          False                           False   \n",
       "1200                          False                           False   \n",
       "\n",
       "      Product_Brand_Wright Ltd  Category_Fragrance  Category_Haircare  \\\n",
       "0                        False                True              False   \n",
       "1                        False               False              False   \n",
       "2                        False               False              False   \n",
       "3                        False               False              False   \n",
       "4                        False               False              False   \n",
       "...                        ...                 ...                ...   \n",
       "1196                     False               False               True   \n",
       "1197                     False               False               True   \n",
       "1198                     False               False              False   \n",
       "1199                     False               False              False   \n",
       "1200                     False               False              False   \n",
       "\n",
       "      Category_Makeup  Category_Skincare  \n",
       "0               False              False  \n",
       "1                True              False  \n",
       "2               False               True  \n",
       "3               False              False  \n",
       "4               False               True  \n",
       "...               ...                ...  \n",
       "1196            False              False  \n",
       "1197            False              False  \n",
       "1198             True              False  \n",
       "1199            False              False  \n",
       "1200            False              False  \n",
       "\n",
       "[1201 rows x 208 columns]"
      ]
     },
     "execution_count": 45,
     "metadata": {},
     "output_type": "execute_result"
    }
   ],
   "source": [
    "df_encoded"
   ]
  },
  {
   "cell_type": "code",
   "execution_count": 46,
   "id": "d16aeadf-e7ab-4923-b44b-be31927bcb1b",
   "metadata": {},
   "outputs": [
    {
     "name": "stdout",
     "output_type": "stream",
     "text": [
      "   ProductPK productid  unit_price  Total_Sales  Total_Quantity  \\\n",
      "0          2    PR-001    0.685511     0.300395       -0.670339   \n",
      "1          5    PR-002    1.557523     1.589788        0.277453   \n",
      "2          9    PR-003    1.136364     0.517510       -0.914467   \n",
      "3         10    PR-004    0.780208     0.707489        0.004603   \n",
      "4         15    PR-005   -0.001271     0.070327        0.220011   \n",
      "\n",
      "   Product_Brand_Adams-Ellison  Product_Brand_Alexander-Gaines  \\\n",
      "0                        False                           False   \n",
      "1                        False                           False   \n",
      "2                        False                           False   \n",
      "3                        False                           False   \n",
      "4                        False                           False   \n",
      "\n",
      "   Product_Brand_Allen LLC  Product_Brand_Allen, Smith and Gordon  \\\n",
      "0                    False                                  False   \n",
      "1                    False                                  False   \n",
      "2                    False                                  False   \n",
      "3                    False                                  False   \n",
      "4                    False                                  False   \n",
      "\n",
      "   Product_Brand_Alvarado Group  ...  Product_Brand_Williams LLC  \\\n",
      "0                         False  ...                       False   \n",
      "1                         False  ...                       False   \n",
      "2                         False  ...                       False   \n",
      "3                         False  ...                       False   \n",
      "4                         False  ...                       False   \n",
      "\n",
      "   Product_Brand_Williams Ltd  Product_Brand_Williams, Hill and Taylor  \\\n",
      "0                       False                                    False   \n",
      "1                       False                                    False   \n",
      "2                       False                                    False   \n",
      "3                       False                                    False   \n",
      "4                       False                                    False   \n",
      "\n",
      "   Product_Brand_Williams-Brewer  Product_Brand_Williamson Group  \\\n",
      "0                          False                           False   \n",
      "1                          False                           False   \n",
      "2                          False                           False   \n",
      "3                          False                           False   \n",
      "4                          False                           False   \n",
      "\n",
      "   Product_Brand_Wright Ltd  Category_Fragrance  Category_Haircare  \\\n",
      "0                     False                True              False   \n",
      "1                     False               False              False   \n",
      "2                     False               False              False   \n",
      "3                     False               False              False   \n",
      "4                     False               False              False   \n",
      "\n",
      "   Category_Makeup  Category_Skincare  \n",
      "0            False              False  \n",
      "1             True              False  \n",
      "2            False               True  \n",
      "3            False              False  \n",
      "4            False               True  \n",
      "\n",
      "[5 rows x 208 columns]\n"
     ]
    }
   ],
   "source": [
    "from sklearn.preprocessing import StandardScaler\n",
    "\n",
    "# Select numerical features\n",
    "numerical_features = ['unit_price', 'Total_Sales', 'Total_Quantity']\n",
    "\n",
    "# Initialize and apply scaler\n",
    "scaler = StandardScaler()\n",
    "df_encoded[numerical_features] = scaler.fit_transform(df_encoded[numerical_features])\n",
    "\n",
    "print(df_encoded.head())"
   ]
  },
  {
   "cell_type": "code",
   "execution_count": 47,
   "id": "f8df8adf-534d-42ac-a524-f1dd90839740",
   "metadata": {},
   "outputs": [
    {
     "name": "stderr",
     "output_type": "stream",
     "text": [
      "C:\\Users\\PC HP 1\\anaconda3\\Lib\\site-packages\\sklearn\\cluster\\_kmeans.py:1382: UserWarning: KMeans is known to have a memory leak on Windows with MKL, when there are less chunks than available threads. You can avoid it by setting the environment variable OMP_NUM_THREADS=5.\n",
      "  warnings.warn(\n",
      "C:\\Users\\PC HP 1\\anaconda3\\Lib\\site-packages\\sklearn\\cluster\\_kmeans.py:1382: UserWarning: KMeans is known to have a memory leak on Windows with MKL, when there are less chunks than available threads. You can avoid it by setting the environment variable OMP_NUM_THREADS=5.\n",
      "  warnings.warn(\n",
      "C:\\Users\\PC HP 1\\anaconda3\\Lib\\site-packages\\sklearn\\cluster\\_kmeans.py:1382: UserWarning: KMeans is known to have a memory leak on Windows with MKL, when there are less chunks than available threads. You can avoid it by setting the environment variable OMP_NUM_THREADS=5.\n",
      "  warnings.warn(\n",
      "C:\\Users\\PC HP 1\\anaconda3\\Lib\\site-packages\\sklearn\\cluster\\_kmeans.py:1382: UserWarning: KMeans is known to have a memory leak on Windows with MKL, when there are less chunks than available threads. You can avoid it by setting the environment variable OMP_NUM_THREADS=5.\n",
      "  warnings.warn(\n",
      "C:\\Users\\PC HP 1\\anaconda3\\Lib\\site-packages\\sklearn\\cluster\\_kmeans.py:1382: UserWarning: KMeans is known to have a memory leak on Windows with MKL, when there are less chunks than available threads. You can avoid it by setting the environment variable OMP_NUM_THREADS=5.\n",
      "  warnings.warn(\n",
      "C:\\Users\\PC HP 1\\anaconda3\\Lib\\site-packages\\sklearn\\cluster\\_kmeans.py:1382: UserWarning: KMeans is known to have a memory leak on Windows with MKL, when there are less chunks than available threads. You can avoid it by setting the environment variable OMP_NUM_THREADS=5.\n",
      "  warnings.warn(\n",
      "C:\\Users\\PC HP 1\\anaconda3\\Lib\\site-packages\\sklearn\\cluster\\_kmeans.py:1382: UserWarning: KMeans is known to have a memory leak on Windows with MKL, when there are less chunks than available threads. You can avoid it by setting the environment variable OMP_NUM_THREADS=5.\n",
      "  warnings.warn(\n",
      "C:\\Users\\PC HP 1\\anaconda3\\Lib\\site-packages\\sklearn\\cluster\\_kmeans.py:1382: UserWarning: KMeans is known to have a memory leak on Windows with MKL, when there are less chunks than available threads. You can avoid it by setting the environment variable OMP_NUM_THREADS=5.\n",
      "  warnings.warn(\n",
      "C:\\Users\\PC HP 1\\anaconda3\\Lib\\site-packages\\sklearn\\cluster\\_kmeans.py:1382: UserWarning: KMeans is known to have a memory leak on Windows with MKL, when there are less chunks than available threads. You can avoid it by setting the environment variable OMP_NUM_THREADS=5.\n",
      "  warnings.warn(\n",
      "C:\\Users\\PC HP 1\\anaconda3\\Lib\\site-packages\\sklearn\\cluster\\_kmeans.py:1382: UserWarning: KMeans is known to have a memory leak on Windows with MKL, when there are less chunks than available threads. You can avoid it by setting the environment variable OMP_NUM_THREADS=5.\n",
      "  warnings.warn(\n"
     ]
    },
    {
     "data": {
      "image/png": "[encoded data removed]",
      "text/plain": [
       "<Figure size 800x500 with 1 Axes>"
      ]
     },
     "metadata": {},
     "output_type": "display_data"
    }
   ],
   "source": [
    "import matplotlib.pyplot as plt\n",
    "from sklearn.cluster import KMeans\n",
    "\n",
    "# Find optimal clusters using Elbow Method\n",
    "inertia = []\n",
    "K_range = range(1, 11)  # Testing k=1 to k=10\n",
    "\n",
    "for k in K_range:\n",
    "    kmeans = KMeans(n_clusters=k, random_state=42, n_init=10)\n",
    "    kmeans.fit(df_encoded.drop(columns=['ProductPK', 'productid']))\n",
    "    inertia.append(kmeans.inertia_)\n",
    "\n",
    "# Plot the elbow curve\n",
    "plt.figure(figsize=(8, 5))\n",
    "plt.plot(K_range, inertia, marker='o')\n",
    "plt.xlabel('Number of Clusters (k)')\n",
    "plt.ylabel('Inertia')\n",
    "plt.title('Elbow Method for Optimal k')\n",
    "plt.show()"
   ]
  },
  {
   "cell_type": "code",
   "execution_count": 48,
   "id": "8fe3dbdc-dd75-4552-b0fb-adc99740ef30",
   "metadata": {},
   "outputs": [
    {
     "name": "stderr",
     "output_type": "stream",
     "text": [
      "C:\\Users\\PC HP 1\\anaconda3\\Lib\\site-packages\\sklearn\\cluster\\_kmeans.py:1382: UserWarning: KMeans is known to have a memory leak on Windows with MKL, when there are less chunks than available threads. You can avoid it by setting the environment variable OMP_NUM_THREADS=5.\n",
      "  warnings.warn(\n"
     ]
    },
    {
     "name": "stdout",
     "output_type": "stream",
     "text": [
      "  productid  Cluster_KMeans\n",
      "0    PR-001               1\n",
      "1    PR-002               1\n",
      "2    PR-003               1\n",
      "3    PR-004               1\n",
      "4    PR-005               1\n"
     ]
    }
   ],
   "source": [
    "from sklearn.cluster import KMeans\n",
    "\n",
    "# Apply K-Means with k = 3 (elbow point)\n",
    "kmeans = KMeans(n_clusters=2, random_state=42, n_init=10)\n",
    "df_encoded['Cluster_KMeans'] = kmeans.fit_predict(df_encoded.drop(columns=['ProductPK', 'productid']))\n",
    "\n",
    "# Check assigned clusters\n",
    "print(df_encoded[['productid', 'Cluster_KMeans']].head())"
   ]
  },
  {
   "cell_type": "code",
   "execution_count": 49,
   "id": "1b538589-1213-47f0-aa07-ab68d55c3314",
   "metadata": {},
   "outputs": [
    {
     "data": {
      "image/png": "[encoded data removed]",
      "text/plain": [
       "<Figure size 800x500 with 1 Axes>"
      ]
     },
     "metadata": {},
     "output_type": "display_data"
    }
   ],
   "source": [
    "import seaborn as sns\n",
    "import matplotlib.pyplot as plt\n",
    "\n",
    "plt.figure(figsize=(8, 5))\n",
    "sns.scatterplot(x=df_encoded['unit_price'], y=df_encoded['Total_Sales'], hue=df_encoded['Cluster_KMeans'], palette='viridis')\n",
    "plt.xlabel('Unit Price')\n",
    "plt.ylabel('Total Sales')\n",
    "plt.title('Product Segmentation using K-Means (k=2)')\n",
    "plt.show()"
   ]
  },
  {
   "cell_type": "code",
   "execution_count": 50,
   "id": "fd007e81-392a-49a7-8187-e49307be9c9f",
   "metadata": {},
   "outputs": [
    {
     "name": "stdout",
     "output_type": "stream",
     "text": [
      "\n",
      " Products in Cluster 0:\n",
      "['PR-011' 'PR-012' 'PR-014' 'PR-016' 'PR-020' 'PR-021' 'PR-022' 'PR-024'\n",
      " 'PR-025' 'PR-026' 'PR-030' 'PR-033' 'PR-034' 'PR-035' 'PR-036' 'PR-039'\n",
      " 'PR-040' 'PR-041' 'PR-042' 'PR-043' 'PR-044' 'PR-045' 'PR-046' 'PR-047'\n",
      " 'PR-048' 'PR-056' 'PR-057' 'PR-059' 'PR-060' 'PR-062' 'PR-063' 'PR-065'\n",
      " 'PR-066' 'PR-069' 'PR-070' 'PR-072' 'PR-074' 'PR-075' 'PR-076' 'PR-078'\n",
      " 'PR-080' 'PR-082' 'PR-084' 'PR-085' 'PR-086' 'PR-089' 'PR-090' 'PR-091'\n",
      " 'PR-092' 'PR-094' 'PR-097' 'PR-102' 'PR-104' 'PR-108' 'PR-111' 'PR-112'\n",
      " 'PR-116' 'PR-117' 'PR-122' 'PR-127' 'PR-128' 'PR-129' 'PR-130' 'PR-131'\n",
      " 'PR-132' 'PR-133' 'PR-134' 'PR-135' 'PR-136' 'PR-137' 'PR-138' 'PR-139'\n",
      " 'PR-140' 'PR-141' 'PR-143' 'PR-145' 'PR-146' 'PR-147' 'PR-149' 'PR-153'\n",
      " 'PR-154' 'PR-155' 'PR-157' 'PR-159' 'PR-161' 'PR-162' 'PR-164' 'PR-165'\n",
      " 'PR-170' 'PR-172' 'PR-173' 'PR-175' 'PR-176' 'PR-178' 'PR-179' 'PR-180'\n",
      " 'PR-182' 'PR-185' 'PR-186' 'PR-190' 'PR-191' 'PR-198' 'PR-203' 'PR-211'\n",
      " 'PR-213' 'PR-215' 'PR-217' 'PR-221' 'PR-223' 'PR-227' 'PR-229' 'PR-237'\n",
      " 'PR-239' 'PR-241' 'PR-247' 'PR-249' 'PR-253' 'PR-255' 'PR-259' 'PR-261'\n",
      " 'PR-263' 'PR-277' 'PR-285' 'PR-289' 'PR-293' 'PR-295' 'PR-299' 'PR-307'\n",
      " 'PR-311' 'PR-315' 'PR-319' 'PR-323' 'PR-325' 'PR-333' 'PR-335' 'PR-343'\n",
      " 'PR-345' 'PR-347' 'PR-349' 'PR-367' 'PR-371' 'PR-373' 'PR-375' 'PR-381'\n",
      " 'PR-387' 'PR-391' 'PR-395' 'PR-397' 'PR-399' 'PR-401' 'PR-403' 'PR-405'\n",
      " 'PR-409' 'PR-411' 'PR-415' 'PR-417' 'PR-421' 'PR-425' 'PR-427' 'PR-429'\n",
      " 'PR-443' 'PR-445' 'PR-447' 'PR-449' 'PR-451' 'PR-453' 'PR-455' 'PR-457'\n",
      " 'PR-463' 'PR-469' 'PR-471' 'PR-473' 'PR-485' 'PR-487' 'PR-493' 'PR-499'\n",
      " 'PR-503' 'PR-507' 'PR-509' 'PR-513' 'PR-515' 'PR-517' 'PR-519' 'PR-523'\n",
      " 'PR-525' 'PR-533' 'PR-541' 'PR-551' 'PR-553' 'PR-559' 'PR-561' 'PR-563'\n",
      " 'PR-567' 'PR-571' 'PR-573' 'PR-577' 'PR-581' 'PR-583' 'PR-585' 'PR-589'\n",
      " 'PR-593' 'PR-597' 'PR-599' 'PR-603' 'PR-605' 'PR-607' 'PR-609' 'PR-611'\n",
      " 'PR-615' 'PR-617' 'PR-623' 'PR-629' 'PR-631' 'PR-635' 'PR-639' 'PR-643'\n",
      " 'PR-647' 'PR-651' 'PR-653' 'PR-657' 'PR-659' 'PR-661' 'PR-665' 'PR-673'\n",
      " 'PR-683' 'PR-685' 'PR-689' 'PR-691' 'PR-693' 'PR-695' 'PR-699' 'PR-717'\n",
      " 'PR-723' 'PR-733' 'PR-735' 'PR-739' 'PR-741' 'PR-745' 'PR-747' 'PR-753'\n",
      " 'PR-755' 'PR-757' 'PR-759' 'PR-763' 'PR-769' 'PR-773' 'PR-781' 'PR-783'\n",
      " 'PR-787' 'PR-791' 'PR-795' 'PR-797' 'PR-799' 'PR-801' 'PR-805' 'PR-807'\n",
      " 'PR-811' 'PR-815' 'PR-817' 'PR-823' 'PR-825' 'PR-827' 'PR-829' 'PR-837'\n",
      " 'PR-843' 'PR-845' 'PR-849' 'PR-851' 'PR-855' 'PR-861' 'PR-869' 'PR-873'\n",
      " 'PR-877' 'PR-879' 'PR-881' 'PR-889' 'PR-895' 'PR-897' 'PR-901' 'PR-909'\n",
      " 'PR-913' 'PR-915' 'PR-917' 'PR-923' 'PR-925' 'PR-927' 'PR-929' 'PR-931'\n",
      " 'PR-933' 'PR-935' 'PR-941' 'PR-947' 'PR-953' 'PR-955' 'PR-959' 'PR-963'\n",
      " 'PR-965' 'PR-969' 'PR-973' 'PR-977' 'PR-979' 'PR-987' 'PR-989' 'PR-997'\n",
      " 'PR-1007' 'PR-1009' 'PR-1019' 'PR-1023' 'PR-1025' 'PR-1027' 'PR-1033'\n",
      " 'PR-1037' 'PR-1041' 'PR-1045' 'PR-1051' 'PR-1057' 'PR-1059' 'PR-1065'\n",
      " 'PR-1067' 'PR-1071' 'PR-1073' 'PR-1077' 'PR-1079' 'PR-1085' 'PR-1087'\n",
      " 'PR-1089' 'PR-1091' 'PR-1093' 'PR-1099' 'PR-1111' 'PR-1113' 'PR-1115'\n",
      " 'PR-1117' 'PR-1119' 'PR-1121' 'PR-1131' 'PR-1133' 'PR-1135' 'PR-1137'\n",
      " 'PR-1143' 'PR-1145' 'PR-1147' 'PR-1153' 'PR-1155' 'PR-1157' 'PR-1159'\n",
      " 'PR-1163' 'PR-1169' 'PR-1173' 'PR-1185' 'PR-1187' 'PR-1189' 'PR-1191'\n",
      " 'PR-1197' 'PR-1199' 'PR-1209' 'PR-1215' 'PR-1219' 'PR-1221' 'PR-1223'\n",
      " 'PR-1233' 'PR-1235' 'PR-1239' 'PR-1241' 'PR-1243' 'PR-1247' 'PR-1249'\n",
      " 'PR-1251' 'PR-1255' 'PR-1259' 'PR-1263' 'PR-1267' 'PR-1271' 'PR-1273'\n",
      " 'PR-1275' 'PR-1277' 'PR-1279' 'PR-1281' 'PR-1293' 'PR-1297' 'PR-1299'\n",
      " 'PR-1313' 'PR-1315' 'PR-1321' 'PR-1323' 'PR-1325' 'PR-1327' 'PR-1331'\n",
      " 'PR-1333' 'PR-1335' 'PR-1337' 'PR-1339' 'PR-1343' 'PR-1351' 'PR-1353'\n",
      " 'PR-1355' 'PR-1357' 'PR-1359' 'PR-1363' 'PR-1365' 'PR-1367' 'PR-1369'\n",
      " 'PR-1375' 'PR-1379' 'PR-1383' 'PR-1385' 'PR-1387' 'PR-1391' 'PR-1395'\n",
      " 'PR-1397' 'PR-1399' 'PR-1403' 'PR-1405' 'PR-1413' 'PR-1415' 'PR-1417'\n",
      " 'PR-1419' 'PR-1423' 'PR-1427' 'PR-1431' 'PR-1433' 'PR-1435' 'PR-1441'\n",
      " 'PR-1445' 'PR-1453' 'PR-1457' 'PR-1461' 'PR-1463' 'PR-1465' 'PR-1467'\n",
      " 'PR-1481' 'PR-1489' 'PR-1491' 'PR-1499' 'PR-1501' 'PR-1505' 'PR-1507'\n",
      " 'PR-1511' 'PR-1513' 'PR-1519' 'PR-1521' 'PR-1523' 'PR-1525' 'PR-1529'\n",
      " 'PR-1535' 'PR-1537' 'PR-1539' 'PR-1541' 'PR-1543' 'PR-1549' 'PR-1551'\n",
      " 'PR-1557' 'PR-1565' 'PR-1567' 'PR-1569' 'PR-1571' 'PR-1573' 'PR-1587'\n",
      " 'PR-1589' 'PR-1591' 'PR-1593' 'PR-1595' 'PR-1599' 'PR-1603' 'PR-1605'\n",
      " 'PR-1609' 'PR-1611' 'PR-1615' 'PR-1617' 'PR-1621' 'PR-1625' 'PR-1629'\n",
      " 'PR-1631' 'PR-1635' 'PR-1637' 'PR-1639' 'PR-1643' 'PR-1649' 'PR-1651'\n",
      " 'PR-1655' 'PR-1657' 'PR-1659' 'PR-1663' 'PR-1669' 'PR-1673' 'PR-1675'\n",
      " 'PR-1679' 'PR-1687' 'PR-1691' 'PR-1693' 'PR-1697' 'PR-1699' 'PR-1703'\n",
      " 'PR-1705' 'PR-1707' 'PR-1711' 'PR-1715' 'PR-1723' 'PR-1725' 'PR-1729'\n",
      " 'PR-1733' 'PR-1735' 'PR-1739' 'PR-1747' 'PR-1751' 'PR-1753' 'PR-1761'\n",
      " 'PR-1763' 'PR-1765' 'PR-1773' 'PR-1777' 'PR-1779' 'PR-1789' 'PR-1791'\n",
      " 'PR-1793' 'PR-1795' 'PR-1797' 'PR-1801' 'PR-1805' 'PR-1807' 'PR-1809'\n",
      " 'PR-1817' 'PR-1821' 'PR-1823' 'PR-1825' 'PR-1831' 'PR-1835' 'PR-1837'\n",
      " 'PR-1845' 'PR-1847' 'PR-1849' 'PR-1851' 'PR-1857' 'PR-1863' 'PR-1867'\n",
      " 'PR-1877' 'PR-1879' 'PR-1883' 'PR-1885' 'PR-1893' 'PR-1897' 'PR-1899'\n",
      " 'PR-1907' 'PR-1913' 'PR-1917' 'PR-1921' 'PR-1925' 'PR-1927' 'PR-1931'\n",
      " 'PR-1935' 'PR-1937' 'PR-1943' 'PR-1947' 'PR-1953' 'PR-1955' 'PR-1957'\n",
      " 'PR-1959' 'PR-1963' 'PR-1967' 'PR-1971' 'PR-1975' 'PR-1981' 'PR-1985'\n",
      " 'PR-1987' 'PR-1995' 'PR-1997' 'PR-2003' 'PR-2011' 'PR-2013' 'PR-2019'\n",
      " 'PR-2023' 'PR-2025' 'PR-2027' 'PR-2029' 'PR-2033' 'PR-2035' 'PR-2041'\n",
      " 'PR-2045' 'PR-2047' 'PR-2049' 'PR-2051' 'PR-2053' 'PR-2057' 'PR-2061'\n",
      " 'PR-2067' 'PR-2071' 'PR-2075' 'PR-2077' 'PR-2079' 'PR-2081' 'PR-2083'\n",
      " 'PR-2085' 'PR-2087' 'PR-2093' 'PR-2095' 'PR-2099' 'PR-2101' 'PR-2103'\n",
      " 'PR-2113' 'PR-2115' 'PR-2119' 'PR-2123' 'PR-2129' 'PR-2133' 'PR-2135'\n",
      " 'PR-2137' 'PR-2145' 'PR-2147' 'PR-2149' 'PR-2151' 'PR-2159' 'PR-2167'\n",
      " 'PR-2169' 'PR-2175' 'PR-2185' 'PR-2189' 'PR-2193' 'PR-2195' 'PR-2199'\n",
      " 'PR-2201']\n",
      "\n",
      " Products in Cluster 1:\n",
      "['PR-001' 'PR-002' 'PR-003' 'PR-004' 'PR-005' 'PR-006' 'PR-007' 'PR-008'\n",
      " 'PR-009' 'PR-010' 'PR-013' 'PR-015' 'PR-017' 'PR-018' 'PR-019' 'PR-023'\n",
      " 'PR-027' 'PR-028' 'PR-029' 'PR-031' 'PR-032' 'PR-037' 'PR-038' 'PR-049'\n",
      " 'PR-050' 'PR-051' 'PR-052' 'PR-053' 'PR-054' 'PR-055' 'PR-058' 'PR-061'\n",
      " 'PR-064' 'PR-067' 'PR-068' 'PR-071' 'PR-073' 'PR-077' 'PR-079' 'PR-081'\n",
      " 'PR-083' 'PR-087' 'PR-088' 'PR-093' 'PR-095' 'PR-096' 'PR-098' 'PR-099'\n",
      " 'PR-100' 'PR-101' 'PR-103' 'PR-105' 'PR-106' 'PR-107' 'PR-109' 'PR-110'\n",
      " 'PR-113' 'PR-114' 'PR-115' 'PR-118' 'PR-119' 'PR-120' 'PR-121' 'PR-123'\n",
      " 'PR-124' 'PR-125' 'PR-126' 'PR-142' 'PR-144' 'PR-148' 'PR-150' 'PR-151'\n",
      " 'PR-152' 'PR-156' 'PR-158' 'PR-160' 'PR-163' 'PR-166' 'PR-167' 'PR-168'\n",
      " 'PR-169' 'PR-171' 'PR-174' 'PR-177' 'PR-181' 'PR-183' 'PR-184' 'PR-187'\n",
      " 'PR-188' 'PR-189' 'PR-192' 'PR-193' 'PR-194' 'PR-195' 'PR-196' 'PR-197'\n",
      " 'PR-199' 'PR-200' 'PR-201' 'PR-205' 'PR-207' 'PR-209' 'PR-219' 'PR-225'\n",
      " 'PR-231' 'PR-233' 'PR-235' 'PR-243' 'PR-245' 'PR-251' 'PR-257' 'PR-265'\n",
      " 'PR-267' 'PR-269' 'PR-271' 'PR-273' 'PR-275' 'PR-279' 'PR-281' 'PR-283'\n",
      " 'PR-287' 'PR-291' 'PR-297' 'PR-301' 'PR-303' 'PR-305' 'PR-309' 'PR-313'\n",
      " 'PR-317' 'PR-321' 'PR-327' 'PR-329' 'PR-331' 'PR-337' 'PR-339' 'PR-341'\n",
      " 'PR-351' 'PR-353' 'PR-355' 'PR-357' 'PR-359' 'PR-361' 'PR-363' 'PR-365'\n",
      " 'PR-369' 'PR-377' 'PR-379' 'PR-383' 'PR-385' 'PR-389' 'PR-393' 'PR-407'\n",
      " 'PR-413' 'PR-419' 'PR-423' 'PR-431' 'PR-433' 'PR-435' 'PR-437' 'PR-439'\n",
      " 'PR-441' 'PR-459' 'PR-461' 'PR-465' 'PR-467' 'PR-475' 'PR-477' 'PR-479'\n",
      " 'PR-481' 'PR-483' 'PR-489' 'PR-491' 'PR-495' 'PR-497' 'PR-501' 'PR-505'\n",
      " 'PR-511' 'PR-521' 'PR-527' 'PR-529' 'PR-531' 'PR-535' 'PR-537' 'PR-539'\n",
      " 'PR-543' 'PR-545' 'PR-547' 'PR-549' 'PR-555' 'PR-557' 'PR-565' 'PR-569'\n",
      " 'PR-575' 'PR-579' 'PR-587' 'PR-591' 'PR-595' 'PR-601' 'PR-613' 'PR-619'\n",
      " 'PR-621' 'PR-625' 'PR-627' 'PR-633' 'PR-637' 'PR-641' 'PR-645' 'PR-649'\n",
      " 'PR-655' 'PR-663' 'PR-667' 'PR-669' 'PR-671' 'PR-675' 'PR-677' 'PR-679'\n",
      " 'PR-681' 'PR-687' 'PR-697' 'PR-701' 'PR-703' 'PR-705' 'PR-707' 'PR-709'\n",
      " 'PR-711' 'PR-713' 'PR-715' 'PR-719' 'PR-721' 'PR-725' 'PR-727' 'PR-729'\n",
      " 'PR-731' 'PR-737' 'PR-743' 'PR-749' 'PR-751' 'PR-761' 'PR-765' 'PR-767'\n",
      " 'PR-771' 'PR-775' 'PR-777' 'PR-779' 'PR-785' 'PR-789' 'PR-793' 'PR-803'\n",
      " 'PR-809' 'PR-813' 'PR-819' 'PR-821' 'PR-831' 'PR-833' 'PR-835' 'PR-839'\n",
      " 'PR-841' 'PR-847' 'PR-853' 'PR-857' 'PR-859' 'PR-863' 'PR-865' 'PR-867'\n",
      " 'PR-871' 'PR-875' 'PR-883' 'PR-885' 'PR-887' 'PR-891' 'PR-893' 'PR-899'\n",
      " 'PR-903' 'PR-905' 'PR-907' 'PR-911' 'PR-919' 'PR-921' 'PR-937' 'PR-939'\n",
      " 'PR-943' 'PR-945' 'PR-949' 'PR-951' 'PR-957' 'PR-961' 'PR-967' 'PR-971'\n",
      " 'PR-975' 'PR-981' 'PR-983' 'PR-985' 'PR-991' 'PR-993' 'PR-995' 'PR-999'\n",
      " 'PR-1001' 'PR-1003' 'PR-1005' 'PR-1011' 'PR-1013' 'PR-1015' 'PR-1017'\n",
      " 'PR-1021' 'PR-1029' 'PR-1031' 'PR-1035' 'PR-1039' 'PR-1043' 'PR-1047'\n",
      " 'PR-1049' 'PR-1053' 'PR-1055' 'PR-1061' 'PR-1063' 'PR-1069' 'PR-1075'\n",
      " 'PR-1081' 'PR-1083' 'PR-1095' 'PR-1097' 'PR-1101' 'PR-1103' 'PR-1105'\n",
      " 'PR-1107' 'PR-1109' 'PR-1123' 'PR-1125' 'PR-1127' 'PR-1129' 'PR-1139'\n",
      " 'PR-1141' 'PR-1149' 'PR-1151' 'PR-1161' 'PR-1165' 'PR-1167' 'PR-1171'\n",
      " 'PR-1175' 'PR-1177' 'PR-1179' 'PR-1181' 'PR-1183' 'PR-1193' 'PR-1195'\n",
      " 'PR-1201' 'PR-1203' 'PR-1205' 'PR-1207' 'PR-1211' 'PR-1213' 'PR-1217'\n",
      " 'PR-1225' 'PR-1227' 'PR-1229' 'PR-1231' 'PR-1237' 'PR-1245' 'PR-1253'\n",
      " 'PR-1257' 'PR-1261' 'PR-1265' 'PR-1269' 'PR-1283' 'PR-1285' 'PR-1287'\n",
      " 'PR-1289' 'PR-1291' 'PR-1295' 'PR-1301' 'PR-1303' 'PR-1305' 'PR-1307'\n",
      " 'PR-1309' 'PR-1311' 'PR-1317' 'PR-1319' 'PR-1329' 'PR-1341' 'PR-1345'\n",
      " 'PR-1347' 'PR-1349' 'PR-1361' 'PR-1371' 'PR-1373' 'PR-1377' 'PR-1381'\n",
      " 'PR-1389' 'PR-1393' 'PR-1401' 'PR-1407' 'PR-1409' 'PR-1411' 'PR-1421'\n",
      " 'PR-1425' 'PR-1429' 'PR-1437' 'PR-1439' 'PR-1443' 'PR-1447' 'PR-1449'\n",
      " 'PR-1451' 'PR-1455' 'PR-1459' 'PR-1469' 'PR-1471' 'PR-1473' 'PR-1475'\n",
      " 'PR-1477' 'PR-1479' 'PR-1483' 'PR-1485' 'PR-1487' 'PR-1493' 'PR-1495'\n",
      " 'PR-1497' 'PR-1503' 'PR-1509' 'PR-1515' 'PR-1517' 'PR-1527' 'PR-1531'\n",
      " 'PR-1533' 'PR-1545' 'PR-1547' 'PR-1553' 'PR-1555' 'PR-1559' 'PR-1561'\n",
      " 'PR-1563' 'PR-1575' 'PR-1577' 'PR-1579' 'PR-1581' 'PR-1583' 'PR-1585'\n",
      " 'PR-1597' 'PR-1601' 'PR-1607' 'PR-1613' 'PR-1619' 'PR-1623' 'PR-1627'\n",
      " 'PR-1633' 'PR-1641' 'PR-1645' 'PR-1647' 'PR-1653' 'PR-1661' 'PR-1665'\n",
      " 'PR-1667' 'PR-1671' 'PR-1677' 'PR-1681' 'PR-1683' 'PR-1685' 'PR-1689'\n",
      " 'PR-1695' 'PR-1701' 'PR-1709' 'PR-1713' 'PR-1717' 'PR-1719' 'PR-1721'\n",
      " 'PR-1727' 'PR-1731' 'PR-1737' 'PR-1741' 'PR-1743' 'PR-1745' 'PR-1749'\n",
      " 'PR-1755' 'PR-1757' 'PR-1759' 'PR-1767' 'PR-1769' 'PR-1771' 'PR-1775'\n",
      " 'PR-1781' 'PR-1783' 'PR-1785' 'PR-1787' 'PR-1799' 'PR-1803' 'PR-1811'\n",
      " 'PR-1813' 'PR-1815' 'PR-1819' 'PR-1827' 'PR-1829' 'PR-1833' 'PR-1839'\n",
      " 'PR-1841' 'PR-1843' 'PR-1853' 'PR-1855' 'PR-1859' 'PR-1861' 'PR-1865'\n",
      " 'PR-1869' 'PR-1871' 'PR-1873' 'PR-1875' 'PR-1881' 'PR-1887' 'PR-1889'\n",
      " 'PR-1891' 'PR-1895' 'PR-1901' 'PR-1903' 'PR-1905' 'PR-1909' 'PR-1911'\n",
      " 'PR-1915' 'PR-1919' 'PR-1923' 'PR-1929' 'PR-1933' 'PR-1939' 'PR-1941'\n",
      " 'PR-1945' 'PR-1949' 'PR-1951' 'PR-1961' 'PR-1965' 'PR-1969' 'PR-1973'\n",
      " 'PR-1977' 'PR-1979' 'PR-1983' 'PR-1989' 'PR-1991' 'PR-1993' 'PR-1999'\n",
      " 'PR-2001' 'PR-2005' 'PR-2007' 'PR-2009' 'PR-2015' 'PR-2017' 'PR-2021'\n",
      " 'PR-2031' 'PR-2037' 'PR-2039' 'PR-2043' 'PR-2055' 'PR-2059' 'PR-2063'\n",
      " 'PR-2065' 'PR-2069' 'PR-2073' 'PR-2089' 'PR-2091' 'PR-2097' 'PR-2105'\n",
      " 'PR-2107' 'PR-2109' 'PR-2111' 'PR-2117' 'PR-2121' 'PR-2125' 'PR-2127'\n",
      " 'PR-2131' 'PR-2139' 'PR-2141' 'PR-2143' 'PR-2153' 'PR-2155' 'PR-2157'\n",
      " 'PR-2161' 'PR-2163' 'PR-2165' 'PR-2171' 'PR-2173' 'PR-2177' 'PR-2179'\n",
      " 'PR-2181' 'PR-2183' 'PR-2187' 'PR-2191' 'PR-2197']\n"
     ]
    }
   ],
   "source": [
    "# Group products by their assigned cluster\n",
    "for cluster in sorted(df_encoded['Cluster_KMeans'].unique()):\n",
    "    print(f\"\\n Products in Cluster {cluster}:\")\n",
    "    print(df_encoded[df_encoded['Cluster_KMeans'] == cluster]['productid'].values)"
   ]
  },
  {
   "cell_type": "code",
   "execution_count": 51,
   "id": "e92a945d-8dd6-4c30-803c-012d8243d89b",
   "metadata": {},
   "outputs": [
    {
     "name": "stdout",
     "output_type": "stream",
     "text": [
      "✅ Clustered products saved to 'product_clusters.csv'\n"
     ]
    }
   ],
   "source": [
    "df_encoded[['productid', 'Cluster_KMeans']].to_csv('product_clusters.csv', index=False)\n",
    "print(\"✅ Clustered products saved to 'product_clusters.csv'\")"
   ]
  },
  {
   "cell_type": "code",
   "execution_count": 52,
   "id": "b6441c5f-20b4-43af-807b-9d8267984e1c",
   "metadata": {},
   "outputs": [
    {
     "name": "stdout",
     "output_type": "stream",
     "text": [
      "(2, 206)\n"
     ]
    }
   ],
   "source": [
    "print(kmeans.cluster_centers_.shape)"
   ]
  },
  {
   "cell_type": "code",
   "execution_count": 53,
   "id": "42226139-d988-4f49-bd63-e049ef551e6f",
   "metadata": {},
   "outputs": [
    {
     "name": "stderr",
     "output_type": "stream",
     "text": [
      "C:\\Users\\PC HP 1\\anaconda3\\Lib\\site-packages\\sklearn\\cluster\\_kmeans.py:1382: UserWarning: KMeans is known to have a memory leak on Windows with MKL, when there are less chunks than available threads. You can avoid it by setting the environment variable OMP_NUM_THREADS=5.\n",
      "  warnings.warn(\n"
     ]
    },
    {
     "name": "stdout",
     "output_type": "stream",
     "text": [
      "   unit_price  Total_Sales  Total_Quantity\n",
      "0   -1.039424    -0.949344       -0.007102\n",
      "1    0.551615     0.180974       -0.689159\n",
      "2    0.851756     1.195788        0.902679\n"
     ]
    }
   ],
   "source": [
    "# Select only numerical features for clustering\n",
    "features = ['unit_price', 'Total_Sales', 'Total_Quantity']\n",
    "df_features = df_encoded[features]\n",
    "\n",
    "# Apply K-Means again\n",
    "from sklearn.preprocessing import StandardScaler\n",
    "scaler = StandardScaler()\n",
    "df_scaled = scaler.fit_transform(df_features)\n",
    "\n",
    "kmeans = KMeans(n_clusters=3, random_state=42, n_init=10)\n",
    "df_encoded['Cluster_KMeans'] = kmeans.fit_predict(df_scaled)\n",
    "\n",
    "# Extract and display cluster centroids\n",
    "centroids = kmeans.cluster_centers_\n",
    "centroid_df = pd.DataFrame(centroids, columns=features)\n",
    "print(centroid_df)"
   ]
  },
  {
   "cell_type": "code",
   "execution_count": 54,
   "id": "016ea095-a411-4d62-ba5a-7648e9be6aa6",
   "metadata": {},
   "outputs": [
    {
     "name": "stdout",
     "output_type": "stream",
     "text": [
      "Index(['ProductPK', 'productid', 'unit_price', 'Total_Sales', 'Total_Quantity',\n",
      "       'Product_Brand_Adams-Ellison', 'Product_Brand_Alexander-Gaines',\n",
      "       'Product_Brand_Allen LLC', 'Product_Brand_Allen, Smith and Gordon',\n",
      "       'Product_Brand_Alvarado Group',\n",
      "       ...\n",
      "       'Product_Brand_Williams Ltd', 'Product_Brand_Williams, Hill and Taylor',\n",
      "       'Product_Brand_Williams-Brewer', 'Product_Brand_Williamson Group',\n",
      "       'Product_Brand_Wright Ltd', 'Category_Fragrance', 'Category_Haircare',\n",
      "       'Category_Makeup', 'Category_Skincare', 'Cluster_KMeans'],\n",
      "      dtype='object', length=209)\n"
     ]
    }
   ],
   "source": [
    "print(df_encoded.columns)"
   ]
  },
  {
   "cell_type": "code",
   "execution_count": 56,
   "id": "c25aa9b3-f159-4bbe-879b-fdb8e40d68f5",
   "metadata": {},
   "outputs": [
    {
     "name": "stdout",
     "output_type": "stream",
     "text": [
      "\n",
      "📌 Cluster 0:\n",
      "   productid  unit_price  Total_Sales  Total_Quantity\n",
      "10    PR-011   -1.656753    -1.525723       -0.354409\n",
      "11    PR-012   -0.411203    -0.063589        1.167802\n",
      "15    PR-016   -0.990794    -0.808258        0.607744\n",
      "19    PR-020   -1.537069    -1.460602       -0.957549\n",
      "21    PR-022   -1.403985    -1.351217       -0.813944\n",
      "\n",
      "📌 Cluster 1:\n",
      "  productid  unit_price  Total_Sales  Total_Quantity\n",
      "0    PR-001    0.685511     0.300395       -0.670339\n",
      "2    PR-003    1.136364     0.517510       -0.914467\n",
      "3    PR-004    0.780208     0.707489        0.004603\n",
      "4    PR-005   -0.001271     0.070327        0.220011\n",
      "8    PR-009    0.959463     0.341414       -1.000630\n",
      "\n",
      "📌 Cluster 2:\n",
      "   productid  unit_price  Total_Sales  Total_Quantity\n",
      "1     PR-002    1.557523     1.589788        0.277453\n",
      "5     PR-006    0.763369     1.634897        1.928908\n",
      "6     PR-007    1.447254     1.536950        0.363615\n",
      "7     PR-008    1.452686     2.351043        1.670419\n",
      "14    PR-015    1.499763     1.417040        0.090766\n"
     ]
    }
   ],
   "source": [
    "for cluster in sorted(df_encoded['Cluster_KMeans'].unique()):\n",
    "    print(f\"\\n📌 Cluster {cluster}:\")\n",
    "    print(df_encoded[df_encoded['Cluster_KMeans'] == cluster][['productid', 'unit_price', 'Total_Sales', 'Total_Quantity']].head())"
   ]
  },
  {
   "cell_type": "code",
   "execution_count": 57,
   "id": "6df590d9-4b25-4f00-8bdf-023bce77875e",
   "metadata": {},
   "outputs": [
    {
     "name": "stdout",
     "output_type": "stream",
     "text": [
      "Silhouette Score: 0.3598\n"
     ]
    }
   ],
   "source": [
    "from sklearn.metrics import silhouette_score\n",
    "\n",
    "sil_score = silhouette_score(df_scaled, df_encoded['Cluster_KMeans'])\n",
    "print(f\"Silhouette Score: {sil_score:.4f}\")"
   ]
  },
  {
   "cell_type": "code",
   "execution_count": 58,
   "id": "32f2fe07-5840-4f6e-be6b-9a9316be0b93",
   "metadata": {},
   "outputs": [
    {
     "name": "stderr",
     "output_type": "stream",
     "text": [
      "C:\\Users\\PC HP 1\\anaconda3\\Lib\\site-packages\\sklearn\\cluster\\_kmeans.py:1382: UserWarning: KMeans is known to have a memory leak on Windows with MKL, when there are less chunks than available threads. You can avoid it by setting the environment variable OMP_NUM_THREADS=5.\n",
      "  warnings.warn(\n"
     ]
    },
    {
     "name": "stdout",
     "output_type": "stream",
     "text": [
      "Silhouette Score for k=2: 0.4127\n"
     ]
    },
    {
     "name": "stderr",
     "output_type": "stream",
     "text": [
      "C:\\Users\\PC HP 1\\anaconda3\\Lib\\site-packages\\sklearn\\cluster\\_kmeans.py:1382: UserWarning: KMeans is known to have a memory leak on Windows with MKL, when there are less chunks than available threads. You can avoid it by setting the environment variable OMP_NUM_THREADS=5.\n",
      "  warnings.warn(\n"
     ]
    },
    {
     "name": "stdout",
     "output_type": "stream",
     "text": [
      "Silhouette Score for k=3: 0.3598\n"
     ]
    },
    {
     "name": "stderr",
     "output_type": "stream",
     "text": [
      "C:\\Users\\PC HP 1\\anaconda3\\Lib\\site-packages\\sklearn\\cluster\\_kmeans.py:1382: UserWarning: KMeans is known to have a memory leak on Windows with MKL, when there are less chunks than available threads. You can avoid it by setting the environment variable OMP_NUM_THREADS=5.\n",
      "  warnings.warn(\n"
     ]
    },
    {
     "name": "stdout",
     "output_type": "stream",
     "text": [
      "Silhouette Score for k=4: 0.3599\n"
     ]
    },
    {
     "name": "stderr",
     "output_type": "stream",
     "text": [
      "C:\\Users\\PC HP 1\\anaconda3\\Lib\\site-packages\\sklearn\\cluster\\_kmeans.py:1382: UserWarning: KMeans is known to have a memory leak on Windows with MKL, when there are less chunks than available threads. You can avoid it by setting the environment variable OMP_NUM_THREADS=5.\n",
      "  warnings.warn(\n"
     ]
    },
    {
     "name": "stdout",
     "output_type": "stream",
     "text": [
      "Silhouette Score for k=5: 0.3574\n"
     ]
    },
    {
     "name": "stderr",
     "output_type": "stream",
     "text": [
      "C:\\Users\\PC HP 1\\anaconda3\\Lib\\site-packages\\sklearn\\cluster\\_kmeans.py:1382: UserWarning: KMeans is known to have a memory leak on Windows with MKL, when there are less chunks than available threads. You can avoid it by setting the environment variable OMP_NUM_THREADS=5.\n",
      "  warnings.warn(\n"
     ]
    },
    {
     "name": "stdout",
     "output_type": "stream",
     "text": [
      "Silhouette Score for k=6: 0.3548\n"
     ]
    },
    {
     "name": "stderr",
     "output_type": "stream",
     "text": [
      "C:\\Users\\PC HP 1\\anaconda3\\Lib\\site-packages\\sklearn\\cluster\\_kmeans.py:1382: UserWarning: KMeans is known to have a memory leak on Windows with MKL, when there are less chunks than available threads. You can avoid it by setting the environment variable OMP_NUM_THREADS=5.\n",
      "  warnings.warn(\n"
     ]
    },
    {
     "name": "stdout",
     "output_type": "stream",
     "text": [
      "Silhouette Score for k=7: 0.3535\n"
     ]
    },
    {
     "name": "stderr",
     "output_type": "stream",
     "text": [
      "C:\\Users\\PC HP 1\\anaconda3\\Lib\\site-packages\\sklearn\\cluster\\_kmeans.py:1382: UserWarning: KMeans is known to have a memory leak on Windows with MKL, when there are less chunks than available threads. You can avoid it by setting the environment variable OMP_NUM_THREADS=5.\n",
      "  warnings.warn(\n"
     ]
    },
    {
     "name": "stdout",
     "output_type": "stream",
     "text": [
      "Silhouette Score for k=8: 0.3499\n"
     ]
    },
    {
     "name": "stderr",
     "output_type": "stream",
     "text": [
      "C:\\Users\\PC HP 1\\anaconda3\\Lib\\site-packages\\sklearn\\cluster\\_kmeans.py:1382: UserWarning: KMeans is known to have a memory leak on Windows with MKL, when there are less chunks than available threads. You can avoid it by setting the environment variable OMP_NUM_THREADS=5.\n",
      "  warnings.warn(\n"
     ]
    },
    {
     "name": "stdout",
     "output_type": "stream",
     "text": [
      "Silhouette Score for k=9: 0.3339\n"
     ]
    },
    {
     "name": "stderr",
     "output_type": "stream",
     "text": [
      "C:\\Users\\PC HP 1\\anaconda3\\Lib\\site-packages\\sklearn\\cluster\\_kmeans.py:1382: UserWarning: KMeans is known to have a memory leak on Windows with MKL, when there are less chunks than available threads. You can avoid it by setting the environment variable OMP_NUM_THREADS=5.\n",
      "  warnings.warn(\n"
     ]
    },
    {
     "name": "stdout",
     "output_type": "stream",
     "text": [
      "Silhouette Score for k=10: 0.3420\n",
      "\n",
      "✅ Best k based on Silhouette Score: 2 with a score of 0.4127\n"
     ]
    }
   ],
   "source": [
    "from sklearn.metrics import silhouette_score\n",
    "\n",
    "best_k = 0\n",
    "best_score = -1\n",
    "for k in range(2, 11):  # Test k from 2 to 10\n",
    "    kmeans = KMeans(n_clusters=k, random_state=42, n_init=10)\n",
    "    labels = kmeans.fit_predict(df_scaled)\n",
    "    score = silhouette_score(df_scaled, labels)\n",
    "    \n",
    "    print(f\"Silhouette Score for k={k}: {score:.4f}\")\n",
    "    \n",
    "    if score > best_score:\n",
    "        best_k = k\n",
    "        best_score = score\n",
    "\n",
    "print(f\"\\n✅ Best k based on Silhouette Score: {best_k} with a score of {best_score:.4f}\")\n"
   ]
  }
 ],
 "metadata": {
  "kernelspec": {
   "display_name": "Python 3 (ipykernel)",
   "language": "python",
   "name": "python3"
  },
  "language_info": {
   "codemirror_mode": {
    "name": "ipython",
    "version": 3
   },
   "file_extension": ".py",
   "mimetype": "text/x-python",
   "name": "python",
   "nbconvert_exporter": "python",
   "pygments_lexer": "ipython3",
   "version": "3.11.7"
  }
 },
 "nbformat": 4,
 "nbformat_minor": 5
}
